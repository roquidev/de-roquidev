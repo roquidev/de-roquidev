{
 "cells": [
  {
   "cell_type": "code",
   "execution_count": 1,
   "metadata": {},
   "outputs": [],
   "source": [
    "# from kaggle_secrets import UserSecretsClient\n",
    "import os, json, subprocess\n",
    "import kaggle\n",
    "from pathlib import Path\n",
    "from pyprojroot import here"
   ]
  },
  {
   "cell_type": "code",
   "execution_count": 25,
   "metadata": {},
   "outputs": [],
   "source": [
    "# Crear el archivo JSON en la raíz del Usuario\n",
    "KAGGLE_USER_ROOT_PATH = Path().home().joinpath(\".kaggle\")\n",
    "\n",
    "# Archivo kaggle.json en Proyecto\n",
    "KAGGLE_PROJECT_CONFIG_PATH = Path(\"kaggle.json\").resolve()#.parent\n",
    "\n",
    "# Ruta raíz del proyecto\n",
    "PROJECT_ROOT_PATH = here()"
   ]
  },
  {
   "cell_type": "code",
   "execution_count": 28,
   "metadata": {},
   "outputs": [
    {
     "data": {
      "text/plain": [
       "WindowsPath('C:/roquidata/roquidev/dl-roquidev/app/getdata/kaggle.json')"
      ]
     },
     "execution_count": 28,
     "metadata": {},
     "output_type": "execute_result"
    }
   ],
   "source": [
    "KAGGLE_PROJECT_CONFIG_PATH"
   ]
  },
  {
   "cell_type": "code",
   "execution_count": 14,
   "metadata": {},
   "outputs": [
    {
     "name": "stdout",
     "output_type": "stream",
     "text": [
      "Ruta actual del archivo kagle: C:\\roquidata\\roquidev\\dl-roquidev\\app\\getdata\\kaggle.json\n",
      "Ruta de la raíz del proyecto: c:\\roquidata\\roquidev\\dl-roquidev\n",
      "Ruta raíz del usuario de kaggle:  C:\\Users\\roy.quillca\\.kaggle\n"
     ]
    }
   ],
   "source": [
    "# Imprimir las rutas\n",
    "print(\"Ruta actual del archivo kagle:\", KAGGLE_PROJECT_CONFIG_PATH)\n",
    "print(\"Ruta de la raíz del proyecto:\", PROJECT_ROOT_PATH)\n",
    "print(\"Ruta raíz del usuario de kaggle: \", KAGGLE_USER_ROOT_PATH)"
   ]
  },
  {
   "cell_type": "code",
   "execution_count": 15,
   "metadata": {},
   "outputs": [
    {
     "data": {
      "text/plain": [
       "{'username': 'royquillcapacco', 'key': '2be835b3f13d8ef217ba745ad8254363'}"
      ]
     },
     "execution_count": 15,
     "metadata": {},
     "output_type": "execute_result"
    }
   ],
   "source": [
    "with open(KAGGLE_PROJECT_CONFIG_PATH, 'r', encoding='utf-8') as data:\n",
    "    credentials = json.load(data)\n",
    "credentials"
   ]
  },
  {
   "cell_type": "code",
   "execution_count": 16,
   "metadata": {},
   "outputs": [
    {
     "data": {
      "text/plain": [
       "<_io.TextIOWrapper name='C:\\\\Users\\\\roy.quillca\\\\.kaggle\\\\kaggle.json' mode='w' encoding='utf-8'>"
      ]
     },
     "execution_count": 16,
     "metadata": {},
     "output_type": "execute_result"
    }
   ],
   "source": [
    "with open(KAGGLE_USER_ROOT_PATH.joinpath(\"kaggle.json\"), \"w\", encoding='utf-8') as file:\n",
    "    json.dump(credentials, file)\n",
    "file"
   ]
  },
  {
   "cell_type": "code",
   "execution_count": 17,
   "metadata": {},
   "outputs": [],
   "source": [
    "import subprocess\n",
    "import zipfile\n"
   ]
  },
  {
   "cell_type": "code",
   "execution_count": 32,
   "metadata": {},
   "outputs": [
    {
     "name": "stdout",
     "output_type": "stream",
     "text": [
      "Downloading salary-by-job-title-and-country.zip to c:\\roquidata\\roquidev\\dl-roquidev\\app\\getdata\n",
      "\n"
     ]
    },
    {
     "name": "stderr",
     "output_type": "stream",
     "text": [
      "\n",
      "  0%|          | 0.00/37.1k [00:00<?, ?B/s]\n",
      "100%|██████████| 37.1k/37.1k [00:00<00:00, 142kB/s]\n",
      "100%|██████████| 37.1k/37.1k [00:00<00:00, 142kB/s]\n"
     ]
    }
   ],
   "source": [
    "!kaggle datasets download -d amirmahdiabbootalebi/salary-by-job-title-and-country "
   ]
  },
  {
   "cell_type": "code",
   "execution_count": 19,
   "metadata": {},
   "outputs": [],
   "source": [
    "def download_data(api_command: str):\n",
    "    api_command_listed = api_command.split(\" \")\n",
    "    subprocess.run(api_command_listed)"
   ]
  },
  {
   "cell_type": "code",
   "execution_count": 20,
   "metadata": {},
   "outputs": [],
   "source": [
    "download_data(\"kaggle datasets download -d amirmahdiabbootalebi/salary-by-job-title-and-country\")"
   ]
  },
  {
   "cell_type": "code",
   "execution_count": 21,
   "metadata": {},
   "outputs": [],
   "source": [
    "# api_command = \"kaggle datasets download -d amirmahdiabbootalebi/salary-by-job-title-and-country\"\n",
    "# PROJECT_ROOT_PATH.joinpath(\"getdata\", api_command.split(' ')[-1])\n",
    "\n",
    "for i in PROJECT_ROOT_PATH.joinpath(\"getdata\").glob(\"*.zip\"):\n",
    "    print(i)"
   ]
  },
  {
   "cell_type": "code",
   "execution_count": 22,
   "metadata": {},
   "outputs": [],
   "source": [
    "ZIP_FILE_PATHS = PROJECT_ROOT_PATH.joinpath(\"getdata\").glob(\"*.zip\")\n",
    "TARGET_UNZIPED_PATH = PROJECT_ROOT_PATH.joinpath(\"getdata\")"
   ]
  },
  {
   "cell_type": "code",
   "execution_count": 24,
   "metadata": {},
   "outputs": [],
   "source": [
    "# Abrimos el archivo ZIP\n",
    "for path in list(ZIP_FILE_PATHS):\n",
    "    # :extractall: Extraer los archivos\n",
    "    # :pwd: contraseña requerida\n",
    "    with zipfile.ZipFile(path, \"r\") as zip_object:\n",
    "        zip_object.extractall(path=TARGET_UNZIPED_PATH, pwd=None)\n",
    "    # Eliminar archivos .zip\n",
    "    path.unlink()"
   ]
  },
  {
   "cell_type": "markdown",
   "metadata": {},
   "source": [
    "Revisar Video para tipado Estático:\n",
    "\n",
    "[Tipado estáticoPycolombia 2020](https://www.youtube.com/watch?v=2vYOxbd2ioc)"
   ]
  },
  {
   "cell_type": "code",
   "execution_count": null,
   "metadata": {},
   "outputs": [],
   "source": []
  },
  {
   "cell_type": "code",
   "execution_count": null,
   "metadata": {},
   "outputs": [],
   "source": []
  }
 ],
 "metadata": {
  "kernelspec": {
   "display_name": "venv",
   "language": "python",
   "name": "python3"
  },
  "language_info": {
   "codemirror_mode": {
    "name": "ipython",
    "version": 3
   },
   "file_extension": ".py",
   "mimetype": "text/x-python",
   "name": "python",
   "nbconvert_exporter": "python",
   "pygments_lexer": "ipython3",
   "version": "3.9.7"
  }
 },
 "nbformat": 4,
 "nbformat_minor": 2
}
